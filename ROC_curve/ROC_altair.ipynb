{
 "cells": [
  {
   "cell_type": "code",
   "execution_count": null,
   "id": "3a84c65b",
   "metadata": {},
   "outputs": [],
   "source": [
    "import altair as alt\n",
    "from vega_datasets import data\n",
    "import seaborn as sns\n",
    "import matplotlib as plt\n",
    "import pandas as pd\n",
    "from altair_saver import save\n",
    "from selenium import webdriver\n",
    "from selenium.webdriver.common.by import By"
   ]
  },
  {
   "cell_type": "code",
   "execution_count": null,
   "id": "6f835fa6",
   "metadata": {},
   "outputs": [],
   "source": [
    "SSRG = pd.read_csv('/home/mpilab/ROC_curve/all.csv')\n",
    "SSRG.head()"
   ]
  },
  {
   "cell_type": "code",
   "execution_count": null,
   "id": "5b61d5e4",
   "metadata": {},
   "outputs": [],
   "source": [
    "DEU_comparison = alt.Chart(SSRG).mark_line(strokeWidth=1.5).encode(alt.X('fpr', title=\"false positive rate\", ),\n",
    "                                                    alt.Y('tpr', title=\"true positive rate\",),\n",
    "                                                    color=alt.Color('Method:N', scale=alt.Scale(scheme='category10'),\n",
    "                                                                    title= 'DEU Methods', )).properties(\n",
    "    width=500, height=400,\n",
    "    title='DEU comparison between SSRG and superTranscriptome'\n",
    ").configure_legend(titleColor='black', titleFontSize=13, labelFontSize= 13) "
   ]
  },
  {
   "cell_type": "code",
   "execution_count": null,
   "id": "bb848062",
   "metadata": {},
   "outputs": [],
   "source": [
    "DEU_comparison"
   ]
  },
  {
   "cell_type": "code",
   "execution_count": null,
   "id": "4d99b1e1",
   "metadata": {},
   "outputs": [],
   "source": [
    "save(DEU_comparison, '/home/mpilab/ROC_curve/DEU_ROC.png', scale_factor=6.0)"
   ]
  },
  {
   "cell_type": "code",
   "execution_count": null,
   "id": "1d178376",
   "metadata": {},
   "outputs": [],
   "source": []
  },
  {
   "cell_type": "code",
   "execution_count": null,
   "id": "c5bc3c65",
   "metadata": {},
   "outputs": [],
   "source": []
  }
 ],
 "metadata": {
  "kernelspec": {
   "display_name": "Python 3 (ipykernel)",
   "language": "python",
   "name": "python3"
  },
  "language_info": {
   "codemirror_mode": {
    "name": "ipython",
    "version": 3
   },
   "file_extension": ".py",
   "mimetype": "text/x-python",
   "name": "python",
   "nbconvert_exporter": "python",
   "pygments_lexer": "ipython3",
   "version": "3.10.8"
  }
 },
 "nbformat": 4,
 "nbformat_minor": 5
}
