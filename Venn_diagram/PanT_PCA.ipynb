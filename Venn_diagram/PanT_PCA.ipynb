{
 "cells": [
  {
   "cell_type": "code",
   "execution_count": null,
   "metadata": {},
   "outputs": [],
   "source": [
    "import pandas as pd"
   ]
  },
  {
   "cell_type": "code",
   "execution_count": null,
   "metadata": {},
   "outputs": [],
   "source": [
    "data = pd.read_csv('/home/mpilab/PanT_new/PanT_PCA.csv')"
   ]
  },
  {
   "cell_type": "code",
   "execution_count": null,
   "metadata": {},
   "outputs": [],
   "source": [
    "data.head()"
   ]
  },
  {
   "cell_type": "code",
   "execution_count": null,
   "metadata": {},
   "outputs": [],
   "source": [
    "non_data_colomns = ['Cultivar', 'Origin', 'Type']"
   ]
  },
  {
   "cell_type": "code",
   "execution_count": null,
   "metadata": {},
   "outputs": [],
   "source": [
    "df_data = data.drop(non_data_colomns, axis=1)"
   ]
  },
  {
   "cell_type": "code",
   "execution_count": null,
   "metadata": {},
   "outputs": [],
   "source": [
    "matrix = df_data.to_numpy()\n",
    "print(matrix.shape)\n",
    "matrix"
   ]
  },
  {
   "cell_type": "code",
   "execution_count": null,
   "metadata": {},
   "outputs": [],
   "source": [
    "from sklearn import decomposition"
   ]
  },
  {
   "cell_type": "code",
   "execution_count": null,
   "metadata": {},
   "outputs": [],
   "source": [
    "pca = decomposition.PCA(n_components=5)\n",
    "pca.fit(matrix)"
   ]
  },
  {
   "cell_type": "code",
   "execution_count": null,
   "metadata": {},
   "outputs": [],
   "source": [
    "print(pca.explained_variance_ratio_)\n",
    "print(pca.singular_values_)"
   ]
  },
  {
   "cell_type": "code",
   "execution_count": null,
   "metadata": {},
   "outputs": [],
   "source": [
    "to_plot = pca.transform(matrix)\n",
    "to_plot.shape"
   ]
  },
  {
   "cell_type": "code",
   "execution_count": null,
   "metadata": {},
   "outputs": [],
   "source": [
    "df_plot = data[non_data_colomns].copy()\n",
    "df_plot"
   ]
  },
  {
   "cell_type": "code",
   "execution_count": null,
   "metadata": {},
   "outputs": [],
   "source": [
    "df_plot['PC1'] = to_plot[:, 0]\n",
    "df_plot['PC2'] = to_plot[:, 1]\n",
    "df_plot['PC3'] = to_plot[:, 2]\n",
    "df_plot['PC4'] = to_plot[:, 3]\n",
    "df_plot['PC5'] = to_plot[:, 4]\n",
    "df_plot.head()"
   ]
  },
  {
   "cell_type": "code",
   "execution_count": null,
   "metadata": {},
   "outputs": [],
   "source": [
    "import altair as alt\n",
    "from vega_datasets import data\n",
    "from altair_saver import save"
   ]
  },
  {
   "cell_type": "code",
   "execution_count": null,
   "metadata": {},
   "outputs": [],
   "source": [
    "alt.data_transformers.disable_max_rows()"
   ]
  },
  {
   "cell_type": "code",
   "execution_count": null,
   "metadata": {},
   "outputs": [],
   "source": [
    "points = alt.Chart(df_plot).mark_point(size=50).encode(\n",
    "    x='PC1',\n",
    "    y='PC2',\n",
    "    color=alt.Color('Type', scale=alt.Scale(scheme='Dark2')),\n",
    "    shape='Type',\n",
    ").properties(height=500,width=600)\n",
    "\n",
    "text = points.mark_text(\n",
    "    align='left',\n",
    "    baseline='top',\n",
    "    dx=7\n",
    ").encode(\n",
    "    text='Cultivar'\n",
    ").properties(height=500,width=600)\n",
    "\n",
    "plot= points + text"
   ]
  },
  {
   "cell_type": "code",
   "execution_count": null,
   "metadata": {},
   "outputs": [],
   "source": [
    "plot"
   ]
  },
  {
   "cell_type": "code",
   "execution_count": null,
   "metadata": {},
   "outputs": [],
   "source": [
    "save(plot, '/home/mpilab/PanT_new/PCA2.png', scale_factor=6.0 )"
   ]
  },
  {
   "cell_type": "code",
   "execution_count": null,
   "metadata": {},
   "outputs": [],
   "source": [
    "points=alt.Chart(df_plot).mark_point(size=50).encode(\n",
    "    x='PC3',\n",
    "    y='PC2',\n",
    "    color=alt.Color('Type', scale=alt.Scale(scheme='Dark2')),\n",
    "    shape='Type',\n",
    ").properties(height=500,width=600)\n",
    "\n",
    "text = points.mark_text(\n",
    "    align='left',\n",
    "    baseline='top',\n",
    "    dx=7\n",
    ").encode(\n",
    "    text='Cultivar'\n",
    ").properties(height=500,width=600)\n",
    "\n",
    "plot1= points + text"
   ]
  },
  {
   "cell_type": "code",
   "execution_count": null,
   "metadata": {},
   "outputs": [],
   "source": [
    "plot1"
   ]
  },
  {
   "cell_type": "code",
   "execution_count": null,
   "metadata": {},
   "outputs": [],
   "source": [
    "save(plot1, '/home/mpilab/PanT_new/PCA2.png', scale_factor=6.0 )"
   ]
  },
  {
   "cell_type": "code",
   "execution_count": null,
   "metadata": {},
   "outputs": [],
   "source": [
    "points=alt.Chart(df_plot).mark_point(size=50).encode(\n",
    "    x='PC1',\n",
    "    y='PC3',\n",
    "    color=alt.Color('Origin', scale=alt.Scale(scheme='category10')),\n",
    "    shape='Origin',\n",
    ").properties(height=500,width=600)\n",
    "\n",
    "text = points.mark_text(\n",
    "    align='left',\n",
    "    baseline='top',\n",
    "    dx=7\n",
    ").encode(\n",
    "    text='Cultivar'\n",
    ").properties(height=500,width=600)\n",
    "\n",
    "plot2= points + text"
   ]
  },
  {
   "cell_type": "code",
   "execution_count": null,
   "metadata": {},
   "outputs": [],
   "source": [
    "plot2"
   ]
  },
  {
   "cell_type": "code",
   "execution_count": null,
   "metadata": {},
   "outputs": [],
   "source": [
    "save(plot2, '/home/mpilab/PanT_new/PCA7.png', scale_factor=6.0 )"
   ]
  },
  {
   "cell_type": "code",
   "execution_count": null,
   "metadata": {},
   "outputs": [],
   "source": []
  }
 ],
 "metadata": {
  "kernelspec": {
   "display_name": "Python 3 (ipykernel)",
   "language": "python",
   "name": "python3"
  },
  "language_info": {
   "codemirror_mode": {
    "name": "ipython",
    "version": 3
   },
   "file_extension": ".py",
   "mimetype": "text/x-python",
   "name": "python",
   "nbconvert_exporter": "python",
   "pygments_lexer": "ipython3",
   "version": "3.10.8"
  }
 },
 "nbformat": 4,
 "nbformat_minor": 4
}
