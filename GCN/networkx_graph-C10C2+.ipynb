{
 "cells": [
  {
   "cell_type": "code",
   "execution_count": null,
   "id": "a5011aaa",
   "metadata": {},
   "outputs": [],
   "source": [
    "import pandas as pd\n",
    "import numpy as np\n",
    "import matplotlib.pyplot as plt\n",
    "import scipy as sp\n",
    "import networkx as nx\n",
    "from pyvis.network import Network"
   ]
  },
  {
   "cell_type": "code",
   "execution_count": null,
   "id": "45bc6bb4",
   "metadata": {},
   "outputs": [],
   "source": [
    "data=pd.read_csv('C10C2+_NAC_slice.csv')"
   ]
  },
  {
   "cell_type": "code",
   "execution_count": null,
   "id": "be121713",
   "metadata": {},
   "outputs": [],
   "source": [
    "data"
   ]
  },
  {
   "cell_type": "code",
   "execution_count": null,
   "id": "6ad6abb3",
   "metadata": {},
   "outputs": [],
   "source": [
    "G=nx.from_pandas_edgelist(data, source='TF_Family', target='Target', edge_attr='PCC_under_C2',)"
   ]
  },
  {
   "cell_type": "code",
   "execution_count": null,
   "id": "1e5cd56d",
   "metadata": {},
   "outputs": [],
   "source": [
    "nx.draw_circular(G)"
   ]
  },
  {
   "cell_type": "code",
   "execution_count": null,
   "id": "6e723b42",
   "metadata": {},
   "outputs": [],
   "source": [
    "net = Network(notebook=True, bgcolor= '#ffffff', neighborhood_highlight=True)"
   ]
  },
  {
   "cell_type": "code",
   "execution_count": null,
   "id": "a105168a",
   "metadata": {},
   "outputs": [],
   "source": [
    "net.from_nx(G)"
   ]
  },
  {
   "cell_type": "code",
   "execution_count": null,
   "id": "0b87729a",
   "metadata": {},
   "outputs": [],
   "source": [
    "net.show('NAC_hub_C10C2+-slice.html')"
   ]
  },
  {
   "cell_type": "code",
   "execution_count": null,
   "id": "5bbb7d2d",
   "metadata": {},
   "outputs": [],
   "source": [
    "net.save_graph('NAC_hub_C10C2+-slice.html')"
   ]
  },
  {
   "cell_type": "code",
   "execution_count": null,
   "id": "77376a4c",
   "metadata": {},
   "outputs": [],
   "source": [
    "def generate_color():\n",
    "  random_number = random.randint(0,16777215)\n",
    "  hex_number = str(hex(random_number))\n",
    "  hex_number ='#'+ hex_number[2:]\n",
    "  return hex_number"
   ]
  },
  {
   "cell_type": "code",
   "execution_count": null,
   "id": "8c64b724",
   "metadata": {},
   "outputs": [],
   "source": []
  }
 ],
 "metadata": {
  "kernelspec": {
   "display_name": "Python 3 (ipykernel)",
   "language": "python",
   "name": "python3"
  },
  "language_info": {
   "codemirror_mode": {
    "name": "ipython",
    "version": 3
   },
   "file_extension": ".py",
   "mimetype": "text/x-python",
   "name": "python",
   "nbconvert_exporter": "python",
   "pygments_lexer": "ipython3",
   "version": "3.10.8"
  }
 },
 "nbformat": 4,
 "nbformat_minor": 5
}
